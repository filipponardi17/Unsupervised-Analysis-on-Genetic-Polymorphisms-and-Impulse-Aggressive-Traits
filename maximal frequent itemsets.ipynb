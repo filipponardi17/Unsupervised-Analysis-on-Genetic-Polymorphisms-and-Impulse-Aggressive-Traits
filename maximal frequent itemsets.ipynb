{
  "cells": [
    {
      "cell_type": "code",
      "execution_count": null,
      "metadata": {
        "colab": {
          "base_uri": "https://localhost:8080/"
        },
        "id": "v_W350ydTdPK",
        "outputId": "3c635522-a6aa-4fc9-dc4a-c62fbd88598e"
      },
      "outputs": [
        {
          "name": "stdout",
          "output_type": "stream",
          "text": [
            "Successful imports\n"
          ]
        }
      ],
      "source": [
        "from mlxtend.frequent_patterns import apriori, fpmax\n",
        "from mlxtend.preprocessing import TransactionEncoder\n",
        "import numpy as np\n",
        "import pandas as pd\n",
        "from google.colab import drive\n",
        "import os\n",
        "from os import listdir\n",
        "\n",
        "print('Successful imports')"
      ]
    },
    {
      "cell_type": "code",
      "execution_count": null,
      "metadata": {
        "colab": {
          "base_uri": "https://localhost:8080/"
        },
        "id": "SfBcM8I3TraC",
        "outputId": "47cc40e2-ed48-47eb-d66a-d9b6abc045a6"
      },
      "outputs": [
        {
          "name": "stderr",
          "output_type": "stream",
          "text": [
            "/usr/local/lib/python3.10/dist-packages/ipykernel/ipkernel.py:283: DeprecationWarning: `should_run_async` will not call `transform_cell` automatically in the future. Please pass the result to `transformed_cell` argument and any exception that happen during thetransform in `preprocessing_exc_tuple` in IPython 7.17 and above.\n",
            "  and should_run_async(code)\n"
          ]
        },
        {
          "name": "stdout",
          "output_type": "stream",
          "text": [
            "Mounted at /content/gdrive\n"
          ]
        }
      ],
      "source": [
        "drive.mount('/content/gdrive', force_remount=True)"
      ]
    },
    {
      "cell_type": "code",
      "execution_count": null,
      "metadata": {
        "colab": {
          "base_uri": "https://localhost:8080/"
        },
        "id": "TBiunjLRTt3K",
        "outputId": "8d59861b-091f-4348-8d67-da675515e379"
      },
      "outputs": [
        {
          "name": "stdout",
          "output_type": "stream",
          "text": [
            "/content/gdrive/MyDrive/Machine Learning in healthcare/Final project\n"
          ]
        },
        {
          "name": "stderr",
          "output_type": "stream",
          "text": [
            "/usr/local/lib/python3.10/dist-packages/ipykernel/ipkernel.py:283: DeprecationWarning: `should_run_async` will not call `transform_cell` automatically in the future. Please pass the result to `transformed_cell` argument and any exception that happen during thetransform in `preprocessing_exc_tuple` in IPython 7.17 and above.\n",
            "  and should_run_async(code)\n"
          ]
        }
      ],
      "source": [
        "%cd '/content/gdrive/MyDrive/Machine Learning in healthcare/Final project'"
      ]
    },
    {
      "cell_type": "markdown",
      "metadata": {
        "id": "RHY3klqoTviI"
      },
      "source": [
        "## Frequent itemset computation"

      ]
    },
    {
      "cell_type": "code",
      "execution_count": null,
      "metadata": {
        "colab": {
          "base_uri": "https://localhost:8080/"
        },
        "id": "xLTudXELT3-5",
        "outputId": "8b5d589c-9568-4ef4-9359-6a3eba95d61c"
      },
      "outputs": [
        {
          "name": "stderr",
          "output_type": "stream",
          "text": [
            "/usr/local/lib/python3.10/dist-packages/ipykernel/ipkernel.py:283: DeprecationWarning: `should_run_async` will not call `transform_cell` automatically in the future. Please pass the result to `transformed_cell` argument and any exception that happen during thetransform in `preprocessing_exc_tuple` in IPython 7.17 and above.\n",
            "  and should_run_async(code)\n"
          ]
        }
      ],
      "source": [
        "df = pd.read_csv('Eureca2.0.csv')"
      ]
    },
    {
      "cell_type": "code",
      "execution_count": null,
      "metadata": {
        "colab": {
          "base_uri": "https://localhost:8080/"
        },
        "id": "jnCio5hmULsr",
        "outputId": "6c0e8237-9f8f-4cdb-83ea-f2ff3271e052"
      },
      "outputs": [
        {
          "name": "stderr",
          "output_type": "stream",
          "text": [
            "/usr/local/lib/python3.10/dist-packages/ipykernel/ipkernel.py:283: DeprecationWarning: `should_run_async` will not call `transform_cell` automatically in the future. Please pass the result to `transformed_cell` argument and any exception that happen during thetransform in `preprocessing_exc_tuple` in IPython 7.17 and above.\n",
            "  and should_run_async(code)\n"
          ]
        }
      ],
      "source": [
        "cols = list(df.columns[-26:])\n",
        "cols.append('type')"
      ]
    },
    {
      "cell_type": "code",
      "execution_count": null,
      "metadata": {
        "colab": {
          "base_uri": "https://localhost:8080/"
        },
        "id": "H-o3eDqHU5n6",
        "outputId": "fc1fe693-2a16-4661-b155-51e627bf834d"
      },
      "outputs": [
        {
          "name": "stderr",
          "output_type": "stream",
          "text": [
            "/usr/local/lib/python3.10/dist-packages/ipykernel/ipkernel.py:283: DeprecationWarning: `should_run_async` will not call `transform_cell` automatically in the future. Please pass the result to `transformed_cell` argument and any exception that happen during thetransform in `preprocessing_exc_tuple` in IPython 7.17 and above.\n",
            "  and should_run_async(code)\n"
          ]
        }
      ],
      "source": [
        "# selecting column subset for dataframe\n",
        "dfr = df[cols]\n"
      ]
    },
    {
      "cell_type": "code",
      "execution_count": null,
      "metadata": {
        "colab": {
          "base_uri": "https://localhost:8080/"
        },
        "id": "AAsz2pm0MvVR",
        "outputId": "675c1214-cea9-40ac-f5c6-97e032bc6d90"
      },
      "outputs": [
        {
          "name": "stderr",
          "output_type": "stream",
          "text": [
            "/usr/local/lib/python3.10/dist-packages/ipykernel/ipkernel.py:283: DeprecationWarning: `should_run_async` will not call `transform_cell` automatically in the future. Please pass the result to `transformed_cell` argument and any exception that happen during thetransform in `preprocessing_exc_tuple` in IPython 7.17 and above.\n",
            "  and should_run_async(code)\n"
          ]
        }
      ],
      "source": [
        "############################## REPLACEMENT LOOP: ADDING COLUMN NUMBERS TO THE VALUES SO THAT THEY ARE DISTINGUISHABLE #####################\n",
        "def dfrF(dfr):\n",
        "  for idx, col in enumerate(dfr.columns[:-3]):\n",
        "    uniques = dfr[col].unique().tolist()\n",
        "    # temporal replacement dictionary, dynamically constructed for each column, to ensure that the values are never repeated and we can\n",
        "    # identify easily to which column an element in an itemset belongs to with .split(',')\n",
        "    news = [str(ntoname[idx]) + ': ' + str(c) for c in uniques]\n",
        "    tempd = dict(zip(uniques, news))\n",
        "\n",
        "    # for all elements in col, if a key is found it gets replaced by its value from tempd\n",
        "    dfr[col] = dfr[col].replace(tempd)\n",
        "  return dfr"
      ]
    },
    {
      "cell_type": "code",
      "execution_count": null,
      "metadata": {
        "colab": {
          "base_uri": "https://localhost:8080/"
        },
        "id": "6lwFJu8ySURs",
        "outputId": "f5bccfa5-14d7-4b01-9aa5-56695ab78cc2"
      },
      "outputs": [
        {
          "name": "stderr",
          "output_type": "stream",
          "text": [
            "/usr/local/lib/python3.10/dist-packages/ipykernel/ipkernel.py:283: DeprecationWarning: `should_run_async` will not call `transform_cell` automatically in the future. Please pass the result to `transformed_cell` argument and any exception that happen during thetransform in `preprocessing_exc_tuple` in IPython 7.17 and above.\n",
            "  and should_run_async(code)\n",
            "<ipython-input-8-897054272936>:4: SettingWithCopyWarning: \n",
            "A value is trying to be set on a copy of a slice from a DataFrame\n",
            "\n",
            "See the caveats in the documentation: https://pandas.pydata.org/pandas-docs/stable/user_guide/indexing.html#returning-a-view-versus-a-copy\n",
            "  dfr.drop(columns=['BIS', 'type'], axis=1, inplace=True)\n"
          ]
        }
      ],
      "source": [
        "import copy\n",
        "\n",
        "dfr2 = dfr.copy()\n",
        "dfr.drop(columns=['BIS', 'type'], axis=1, inplace=True)"
      ]
    },
    {
      "cell_type": "code",
      "execution_count": null,
      "metadata": {
        "id": "cOmQRgq9SuVt"
      },
      "outputs": [],
      "source": [
        "\"\"\"for col in dfr2.columns:\n",
        "  print(dfr2[col].unique().tolist())\"\"\"\n"
      ]
    },
    {
      "cell_type": "code",
      "execution_count": null,
      "metadata": {
        "colab": {
          "base_uri": "https://localhost:8080/"
        },
        "id": "09araZwLQkX8",
        "outputId": "0bbf2238-a9b8-4316-eaba-3d04ebac2316"
      },
      "outputs": [
        {
          "name": "stderr",
          "output_type": "stream",
          "text": [
            "/usr/local/lib/python3.10/dist-packages/ipykernel/ipkernel.py:283: DeprecationWarning: `should_run_async` will not call `transform_cell` automatically in the future. Please pass the result to `transformed_cell` argument and any exception that happen during thetransform in `preprocessing_exc_tuple` in IPython 7.17 and above.\n",
            "  and should_run_async(code)\n"
          ]
        }
      ],
      "source": [
        "import os\n",
        "\n",
        "def makecheck(name):\n",
        "  if not os.path.exists(name):\n",
        "    os.makedirs(name)"
      ]
    },
    {
      "cell_type": "code",
      "execution_count": null,
      "metadata": {
        "colab": {
          "base_uri": "https://localhost:8080/"
        },
        "id": "s-uDnVS618I0",
        "outputId": "ece7dc8c-3148-4af9-f34f-cc74d744e3ac"
      },
      "outputs": [
        {
          "name": "stderr",
          "output_type": "stream",
          "text": [
            "/usr/local/lib/python3.10/dist-packages/ipykernel/ipkernel.py:283: DeprecationWarning: `should_run_async` will not call `transform_cell` automatically in the future. Please pass the result to `transformed_cell` argument and any exception that happen during thetransform in `preprocessing_exc_tuple` in IPython 7.17 and above.\n",
            "  and should_run_async(code)\n"
          ]
        },
        {
          "data": {
            "text/plain": [
              "['HT1B_861',\n",
              " 'VHT2A_1438',\n",
              " 'VHT2A_C102T',\n",
              " 'VHTTP_mutation_seule',\n",
              " 'VHTTP_LPR',\n",
              " '@_httpb_promoteur',\n",
              " 'VHTTP_snippassocie',\n",
              " 'VHTTP_Intron2',\n",
              " 'TPH1_intron1b',\n",
              " 'TPH1_promo',\n",
              " 'TPH1_Intron3',\n",
              " 'TPH1_Intron4',\n",
              " 'TPH1_Intron7',\n",
              " 'TPH1_Intron9',\n",
              " 'TPH1_T8687',\n",
              " 'TPH2_8997',\n",
              " 'TPH2_9000_Eco72_1',\n",
              " 'TPH2_9000_Aci_I',\n",
              " 'TPH2_Intron5',\n",
              " 'TPH2_Exon7',\n",
              " 'TPH2_Intron9',\n",
              " 'MAOA_Promo',\n",
              " 'MAOA_promo_activite']"
            ]
          },
          "execution_count": 10,
          "metadata": {},
          "output_type": "execute_result"
        }
      ],
      "source": [
        "cols[:-4]"
      ]
    },
    {
      "cell_type": "code",
      "execution_count": null,
      "metadata": {
        "colab": {
          "base_uri": "https://localhost:8080/"
        },
        "id": "a0F7PAT8IQZu",
        "outputId": "2bdeeed4-8510-45f0-c5c0-6b9e33678926"
      },
      "outputs": [
        {
          "name": "stderr",
          "output_type": "stream",
          "text": [
            "/usr/local/lib/python3.10/dist-packages/ipykernel/ipkernel.py:283: DeprecationWarning: `should_run_async` will not call `transform_cell` automatically in the future. Please pass the result to `transformed_cell` argument and any exception that happen during thetransform in `preprocessing_exc_tuple` in IPython 7.17 and above.\n",
            "  and should_run_async(code)\n"
          ]
        },
        {
          "data": {
            "text/plain": [
              "['HT1B_861',\n",
              " 'VHT2A_1438',\n",
              " 'VHT2A_C102T',\n",
              " 'VHTTP_mutation_seule',\n",
              " 'VHTTP_LPR',\n",
              " '@_httpb_promoteur',\n",
              " 'VHTTP_snippassocie',\n",
              " 'VHTTP_Intron2',\n",
              " 'TPH1_intron1b',\n",
              " 'TPH1_promo',\n",
              " 'TPH1_Intron3',\n",
              " 'TPH1_Intron4',\n",
              " 'TPH1_Intron7',\n",
              " 'TPH1_Intron9',\n",
              " 'TPH1_T8687',\n",
              " 'TPH2_8997',\n",
              " 'TPH2_9000_Eco72_1',\n",
              " 'TPH2_9000_Aci_I',\n",
              " 'TPH2_Intron5',\n",
              " 'TPH2_Exon7',\n",
              " 'TPH2_Intron9',\n",
              " 'MAOA_Promo',\n",
              " 'MAOA_promo_activite']"
            ]
          },
          "execution_count": 11,
          "metadata": {},
          "output_type": "execute_result"
        }
      ],
      "source": [
        "list(dfr2.columns)[:-4]"
      ]
    },
    {
      "cell_type": "code",
      "execution_count": null,
      "metadata": {
        "colab": {
          "base_uri": "https://localhost:8080/"
        },
        "id": "oJ_yNSX1PRpY",
        "outputId": "96679eb2-49fd-4ec9-e69b-4261e75b1c19"
      },
      "outputs": [
        {
          "name": "stderr",
          "output_type": "stream",
          "text": [
            "/usr/local/lib/python3.10/dist-packages/ipykernel/ipkernel.py:283: DeprecationWarning: `should_run_async` will not call `transform_cell` automatically in the future. Please pass the result to `transformed_cell` argument and any exception that happen during thetransform in `preprocessing_exc_tuple` in IPython 7.17 and above.\n",
            "  and should_run_async(code)\n"
          ]
        }
      ],
      "source": [
        "############################################# COMPUTING FREQUENT ITEMSETS, USING FPMAX #########################\n",
        "import random\n",
        "\n",
        "\n",
        "def itemsets(dfr2, n):\n",
        "  # Random selection of polymorphisms\n",
        "  ROOT = f\"itemsets of length {n}\"\n",
        "  makecheck(ROOT)\n",
        "  # 15 selections of three random polymorphisms\n",
        "  for i in range(15):\n",
        "    # print(list(dfr2.columns)[:-4])\n",
        "    pls = list(dfr2.columns[:-4])\n",
        "    polymorphisms = random.sample(pls, n)\n",
        "\n",
        "    ########## CREATING DIRECTORY FOR THE ITEMSETS, SAVING LIST OF THE RANDOM CHOICE IN THAT DIRECTORY\n",
        "    makecheck(os.path.join(ROOT, f\"itemsets_{i}\"))\n",
        "    with open(os.path.join(ROOT, f\"itemsets_{i}\", 'polymorphisms.txt'), 'w') as f:\n",
        "      for item in polymorphisms:\n",
        "        f.write(str(item) + '\\n')\n",
        "\n",
        "    polymorphisms.append('type')\n",
        "    # print(f\"---->Polymorphisms: {polymorphisms}\")\n",
        "    # dfrt = dfr2[polymorphisms]\n",
        "\n",
        "    for idx, unique in enumerate(dfr2['type'].unique().tolist()):\n",
        "      # select columns corresponding to polymorphisms\n",
        "      dfrp = dfr2[polymorphisms]\n",
        "\n",
        "      # we want to select rows with no NAs, thus\n",
        "      dfrp.replace(' ', pd.NA, inplace=True)\n",
        "      dfrp.dropna(subset=polymorphisms[:-1], inplace=True)\n",
        "\n",
        "      # before selecting the frequent itemsets, we need to write the column names into the values\n",
        "\n",
        "      # select subset for some type\n",
        "      dft = dfrp[dfrp['type'] == unique]\n",
        "\n",
        "      # processing the column names\n",
        "      for _, value in enumerate(dft.columns[:-1]):\n",
        "        ntoname = dict(zip([i for i in range(len(dfr.columns[:-1]))], dfr.columns[:-1]))\n",
        "        uniquevals = dft[value].unique().tolist()\n",
        "        news = [str(value) + ': ' + str(c) for c in uniquevals]\n",
        "        tempd = dict(zip(uniquevals, news))\n",
        "        dft[value] = dft[value].replace(tempd)\n",
        "        #print('\\n')\n",
        "        #print(dft[value].unique())\n",
        "        #print('\\n')\n",
        "\n",
        "      # actually getting itemsets using fpmax\n",
        "      dfs = dft.astype(str)\n",
        "      # print(dfs.head())\n",
        "      dataset = dfs.values.tolist()\n",
        "      te = TransactionEncoder()\n",
        "      te_ary = te.fit(dataset).transform(dataset)\n",
        "      df = pd.DataFrame(te_ary, columns=te.columns_)\n",
        "      fitemsets = fpmax(df, min_support=.2, use_colnames=True)\n",
        "      # print(fitemsets)\n",
        "      fitemsets.to_csv(os.path.join(ROOT, f\"itemsets_{i}/Type {idx+1}.csv\"))\n",
        "\n",
        "    \"\"\"\n",
        "    for idx,unique in enumerate(dfr2['type'].unique().tolist()):\n",
        "      dfrt = dfr2[polymorphisms]\n",
        "      dfr = dfrt.copy()\n",
        "      # replacing ' ' by the NA\n",
        "      dfr.replace(' ', pd.NA, inplace=True)\n",
        "      dfr.dropna(subset=polymorphisms[:-1], inplace=True)\n",
        "      # selecting for rows with no NAs, for unique personality types\n",
        "      dfs = dfr[dfr['type'] == unique]\n",
        "      for idx, col in enumerate(dfr.columns[:-3]):\n",
        "        uniques = dfs[col].unique().tolist()\n",
        "        # temporal replacement dictionary, dynamically constructed for each column, to ensure that the values are never repeated and we can\n",
        "        # identify easily to which column an element in an itemset belongs to with .split(',')\n",
        "        news = [str(ntoname[idx]) + ': ' + str(c) for c in uniques]\n",
        "        tempd = dict(zip(uniques, news))\n",
        "\n",
        "        # for all elements in col, if a key is found it gets replaced by its value from tempd\n",
        "        dfs[col] = dfs[col].replace(tempd)\n",
        "\n",
        "      # important so that only the actual polymorphisms are accounted for when computing the itemsets\n",
        "      dfs.drop('type', axis=1, inplace=True)\n",
        "      print(dfs.head())\n",
        "      dfs = dfs.astype(str)\n",
        "      dataset = dfs.values.tolist()\n",
        "      te = TransactionEncoder()\n",
        "      te_ary = te.fit(dataset).transform(dataset)\n",
        "      df = pd.DataFrame(te_ary, columns=te.columns_)\n",
        "      fitemsets = fpmax(df, min_support=0.2, use_colnames=True)\n",
        "      fitemsets.to_csv(os.path.join(ROOT, f\"itemsets_{i}/Type {idx+1}.csv\"))\n",
        "    \"\"\""
      ]
    },
    {
      "cell_type": "code",
      "execution_count": null,
      "metadata": {
        "colab": {
          "base_uri": "https://localhost:8080/"
        },
        "id": "U50uEYeMnfVn",
        "outputId": "8148ea4f-d300-47f7-9f9a-e7e8fce0840d"
      },
      "outputs": [
        {
          "name": "stdout",
          "output_type": "stream",
          "text": [
            "['VHTTP_LPR', 'TPH1_intron1b', 'TPH1_Intron3']\n",
            "['HT1B_861', 'VHT2A_1438', 'VHT2A_C102T', 'VHTTP_mutation_seule', 'VHTTP_LPR', '@_httpb_promoteur', 'VHTTP_snippassocie', 'VHTTP_Intron2', 'TPH1_intron1b', 'TPH1_promo', 'TPH1_Intron3', 'TPH1_Intron4', 'TPH1_Intron7', 'TPH1_Intron9', 'TPH1_T8687', 'TPH2_8997', 'TPH2_9000_Eco72_1', 'TPH2_9000_Aci_I', 'TPH2_Intron5', 'TPH2_Exon7', 'TPH2_Intron9', 'MAOA_Promo', 'MAOA_promo_activite']\n"
          ]
        },
        {
          "name": "stderr",
          "output_type": "stream",
          "text": [
            "/usr/local/lib/python3.10/dist-packages/ipykernel/ipkernel.py:283: DeprecationWarning: `should_run_async` will not call `transform_cell` automatically in the future. Please pass the result to `transformed_cell` argument and any exception that happen during thetransform in `preprocessing_exc_tuple` in IPython 7.17 and above.\n",
            "  and should_run_async(code)\n"
          ]
        }
      ],
      "source": [
        "pls = list(dfr2.columns[:-4])\n",
        "polymorphisms = random.sample(pls, 3)\n",
        "print(polymorphisms)\n",
        "print(pls)"
      ]
    },
    {
      "cell_type": "code",
      "execution_count": null,
      "metadata": {
        "colab": {
          "base_uri": "https://localhost:8080/"
        },
        "id": "AY-gVzp28QXf",
        "outputId": "e16ad549-107f-402b-ba0c-2de5abcb8a19"
      },
      "outputs": [
        {
          "name": "stderr",
          "output_type": "stream",
          "text": [
            "/usr/local/lib/python3.10/dist-packages/ipykernel/ipkernel.py:283: DeprecationWarning: `should_run_async` will not call `transform_cell` automatically in the future. Please pass the result to `transformed_cell` argument and any exception that happen during thetransform in `preprocessing_exc_tuple` in IPython 7.17 and above.\n",
            "  and should_run_async(code)\n"
          ]
        }
      ],
      "source": [
        "import warnings\n",
        "\n",
        "warnings.filterwarnings('ignore')\n",
        "\n",
        "itemsets(dfr2,2)"
      ]
    },
    {
      "cell_type": "markdown",
      "metadata": {
        "id": "aGdBcd5AsF0V"
      },
      "source": [
        "̣̣̣̣̣̣̣̣̣_______________"
      ]
    },
    {
      "cell_type": "code",
      "execution_count": null,
      "metadata": {
        "colab": {
          "base_uri": "https://localhost:8080/"
        },
        "id": "dxm7ejjqePkP",
        "outputId": "3053f988-bada-4733-b91e-ab685cffa4c1"
      },
      "outputs": [
        {
          "name": "stderr",
          "output_type": "stream",
          "text": [
            "/usr/local/lib/python3.10/dist-packages/ipykernel/ipkernel.py:283: DeprecationWarning: `should_run_async` will not call `transform_cell` automatically in the future. Please pass the result to `transformed_cell` argument and any exception that happen during thetransform in `preprocessing_exc_tuple` in IPython 7.17 and above.\n",
            "  and should_run_async(code)\n"
          ]
        },
        {
          "name": "stdout",
          "output_type": "stream",
          "text": [
            "Frequent Itemsets of Length 5:\n",
            "frozenset({'AA', '   ', 'GG', '11', ' '}) - Support: 0.10615296147211041\n",
            "frozenset({'AA', '   ', 'AG', ' ', '12'}) - Support: 0.11776883266244968\n",
            "frozenset({'AA', '   ', 'CC', ' ', '12'}) - Support: 0.13605520414031053\n",
            "frozenset({'AA', '   ', 'GG', ' ', '12'}) - Support: 0.1622771707878091\n",
            "frozenset({'   ', 'GG', 'AG', ' ', '12'}) - Support: 0.1168487636572743\n",
            "frozenset({'   ', 'GG', 'CC', ' ', '12'}) - Support: 0.13513513513513514\n",
            "frozenset({'14a 16a', 'AA', '   ', 'GG', ' '}) - Support: 0.11914893617021277\n",
            "frozenset({'14a 16a', 'AA', '   ', 'SL', ' '}) - Support: 0.14583093732029903\n",
            "frozenset({'14a 16a', 'AA', '   ', 'SpLp', ' '}) - Support: 0.14583093732029903\n",
            "frozenset({'14a 16a', '   ', 'SL', 'GG', ' '}) - Support: 0.11914893617021277\n",
            "frozenset({'14a 16a', '   ', 'SpLp', 'GG', ' '}) - Support: 0.11914893617021277\n",
            "frozenset({'14a 16a', '   ', 'SpLp', 'SL', ' '}) - Support: 0.14583093732029903\n",
            "frozenset({'2', 'AA', '   ', 'GG', ' '}) - Support: 0.1109833237492812\n",
            "frozenset({'2', 'AA', '   ', ' ', 'H'}) - Support: 0.11868890166762507\n",
            "frozenset({'2', '   ', 'GG', ' ', 'H'}) - Support: 0.10822311673375504\n",
            "frozenset({'AA', 'AC', '   ', 'GG', ' '}) - Support: 0.102242668200115\n",
            "frozenset({'AA', '   ', 'AG', 'CC', ' '}) - Support: 0.1300747556066705\n",
            "frozenset({'AA', '   ', 'GG', 'AG', ' '}) - Support: 0.15043128234617598\n",
            "frozenset({'AA', '   ', 'CC', ' ', 'AT'}) - Support: 0.10327774583093732\n",
            "frozenset({'AA', '   ', 'GG', ' ', 'AT'}) - Support: 0.12098907418056354\n",
            "frozenset({'AA', '   ', 'GG', 'CC', ' '}) - Support: 0.18355376653248995\n",
            "frozenset({'AA', '   ', 'GG', ' ', 'CG'}) - Support: 0.10442783208740655\n",
            "frozenset({'LL', 'AA', '   ', 'GG', ' '}) - Support: 0.10373778033352501\n",
            "frozenset({'AA', '   ', 'SL', 'GG', ' '}) - Support: 0.15135135135135136\n",
            "frozenset({'AA', '   ', 'SpLp', 'GG', ' '}) - Support: 0.13076480736055204\n",
            "frozenset({'AA', '   ', 'GG', ' ', 'TT'}) - Support: 0.1100632547441058\n",
            "frozenset({'AA', '   ', 'SpLp', 'SL', ' '}) - Support: 0.1461759631972398\n",
            "frozenset({'   ', 'GG', 'AG', 'CC', ' '}) - Support: 0.12880966072455435\n",
            "frozenset({'   ', 'GG', 'CC', ' ', 'AT'}) - Support: 0.10718803910293272\n",
            "frozenset({'   ', 'SpLp', 'GG', 'SL', ' '}) - Support: 0.11983898792409431\n",
            "frozenset({'AA', 'AG', '11', ' ', '12'}) - Support: 0.10580793559516964\n",
            "frozenset({'AA', 'CC', '11', ' ', '12'}) - Support: 0.13433007475560668\n",
            "frozenset({'AA', '11', ' ', 'CG', '12'}) - Support: 0.10258769407705579\n",
            "frozenset({'AA', 'GG', '11', ' ', '12'}) - Support: 0.14502587694077057\n",
            "frozenset({'GG', 'AG', '11', ' ', '12'}) - Support: 0.10408280621046578\n",
            "frozenset({'GG', '11', 'CC', ' ', '12'}) - Support: 0.13237492811960896\n",
            "frozenset({'GG', '11', ' ', 'CG', '12'}) - Support: 0.10028752156411731\n",
            "frozenset({'AA', 'AG', '11', 'CC', ' '}) - Support: 0.13145485911443358\n",
            "frozenset({'AA', 'GG', 'AG', '11', ' '}) - Support: 0.13812535940195514\n",
            "frozenset({'AA', 'CC', '11', ' ', 'AT'}) - Support: 0.10868315123634273\n",
            "frozenset({'AA', 'GG', '11', ' ', 'AT'}) - Support: 0.1148936170212766\n",
            "frozenset({'AA', 'CC', '11', ' ', 'CG'}) - Support: 0.11696377228292122\n",
            "frozenset({'AA', 'GG', 'CC', '11', ' '}) - Support: 0.18159861989649223\n",
            "frozenset({'AA', 'GG', '11', ' ', 'CG'}) - Support: 0.12501437607820587\n",
            "frozenset({'AA', 'GG', '11', ' ', 'TT'}) - Support: 0.10178263369752731\n",
            "frozenset({'GG', 'AG', '11', 'CC', ' '}) - Support: 0.12869465209890743\n",
            "frozenset({'GG', '11', 'CC', ' ', 'AT'}) - Support: 0.10730304772857964\n",
            "frozenset({'GG', '11', 'CC', ' ', 'CG'}) - Support: 0.11454859114433583\n",
            "frozenset({'14a 16a', 'AA', 'CC', ' ', '12'}) - Support: 0.10833812535940196\n",
            "frozenset({'14a 16a', 'AA', 'GG', ' ', '12'}) - Support: 0.12800460034502587\n",
            "frozenset({'14a 16a', 'AA', 'SL', ' ', '12'}) - Support: 0.13030477285796435\n",
            "frozenset({'14a 16a', 'AA', 'SpLp', ' ', '12'}) - Support: 0.13030477285796435\n",
            "frozenset({'14a 16a', 'GG', 'CC', ' ', '12'}) - Support: 0.1066129959746981\n",
            "frozenset({'14a 16a', 'SL', 'CC', ' ', '12'}) - Support: 0.10833812535940196\n",
            "frozenset({'14a 16a', 'SpLp', 'CC', ' ', '12'}) - Support: 0.10833812535940196\n",
            "frozenset({'14a 16a', 'SL', 'GG', ' ', '12'}) - Support: 0.12800460034502587\n",
            "frozenset({'14a 16a', 'SpLp', 'GG', ' ', '12'}) - Support: 0.12800460034502587\n",
            "frozenset({'14a 16a', 'SpLp', 'SL', ' ', '12'}) - Support: 0.13030477285796435\n",
            "frozenset({'AA', 'AC', 'AG', ' ', '12'}) - Support: 0.1246693502012651\n",
            "frozenset({'AA', 'AC', ' ', '12', 'AT'}) - Support: 0.10362277170787809\n",
            "frozenset({'AA', 'AC', 'CC', ' ', '12'}) - Support: 0.11868890166762507\n",
            "frozenset({'AA', 'AC', ' ', 'CG', '12'}) - Support: 0.10431282346175963\n",
            "frozenset({'AA', 'AC', 'GG', ' ', '12'}) - Support: 0.1712478435882691\n",
            "frozenset({'AA', 'AG', ' ', '12', 'AT'}) - Support: 0.14847613571017826\n",
            "frozenset({'AA', 'AG', 'CC', ' ', '12'}) - Support: 0.20333525014376078\n",
            "frozenset({'AA', 'AG', ' ', 'CG', '12'}) - Support: 0.15342150661299597\n",
            "frozenset({'AA', 'GG', 'AG', ' ', '12'}) - Support: 0.23703277745830936\n",
            "frozenset({'AA', 'SL', 'AG', ' ', '12'}) - Support: 0.11512363427257044\n",
            "frozenset({'AA', 'SpLp', 'AG', ' ', '12'}) - Support: 0.10971822886716504\n",
            "frozenset({'TC', 'AA', 'AG', ' ', '12'}) - Support: 0.12363427257044278\n",
            "frozenset({'AA', 'AG', ' ', '12', 'TT'}) - Support: 0.1266244968372628\n",
            "frozenset({'AA', 'CC', ' ', '12', 'AT'}) - Support: 0.17274295572167914\n",
            "frozenset({'AA', ' ', 'CG', '12', 'AT'}) - Support: 0.13720529039677976\n",
            "frozenset({'AA', 'GG', ' ', '12', 'AT'}) - Support: 0.1956296722254169\n",
            "frozenset({'AA', ' ', '12', 'AT', 'TT'}) - Support: 0.1144335825186889\n",
            "frozenset({'AA', 'CC', ' ', 'CG', '12'}) - Support: 0.17584818861414606\n",
            "frozenset({'AA', 'GG', 'CC', ' ', '12'}) - Support: 0.2765957446808511\n",
            "frozenset({'AA', 'SL', 'CC', ' ', '12'}) - Support: 0.13559516963772283\n",
            "frozenset({'AA', 'SpLp', 'CC', ' ', '12'}) - Support: 0.12489936745255895\n",
            "frozenset({'TC', 'AA', 'CC', ' ', '12'}) - Support: 0.10764807360552041\n",
            "frozenset({'AA', 'CC', ' ', '12', 'TT'}) - Support: 0.15227142035652674\n",
            "frozenset({'AA', 'GG', ' ', 'CG', '12'}) - Support: 0.20494537090281773\n",
            "frozenset({'AA', ' ', 'CG', '12', 'TT'}) - Support: 0.11397354801610121\n",
            "frozenset({'LL', 'AA', 'GG', ' ', '12'}) - Support: 0.10638297872340426\n",
            "frozenset({'AA', 'SL', 'GG', ' ', '12'}) - Support: 0.15802185163887292\n",
            "frozenset({'AA', 'SpLp', 'GG', ' ', '12'}) - Support: 0.1491661874640598\n",
            "frozenset({'AA', 'GG', ' ', '12', 'TA'}) - Support: 0.10005750431282347\n",
            "frozenset({'TC', 'AA', 'GG', ' ', '12'}) - Support: 0.15928694652098907\n",
            "frozenset({'AA', 'GG', ' ', '12', 'TT'}) - Support: 0.1740080506037953\n",
            "frozenset({'AA', 'SpLp', 'SL', ' ', '12'}) - Support: 0.1311098332374928\n",
            "frozenset({'AC', 'GG', 'AG', ' ', '12'}) - Support: 0.1242093156986774\n",
            "frozenset({'AC', 'GG', ' ', '12', 'AT'}) - Support: 0.10350776308223117\n",
            "frozenset({'AC', 'GG', 'CC', ' ', '12'}) - Support: 0.11914893617021277\n",
            "frozenset({'AC', 'GG', ' ', 'CG', '12'}) - Support: 0.10281771132834963\n",
            "frozenset({'AG', 'CC', ' ', '12', 'AT'}) - Support: 0.13076480736055204\n",
            "frozenset({'AG', ' ', 'CG', '12', 'AT'}) - Support: 0.10396779758481886\n",
            "frozenset({'GG', 'AG', ' ', '12', 'AT'}) - Support: 0.14686601495112134\n",
            "frozenset({'AG', 'CC', ' ', 'CG', '12'}) - Support: 0.1294997124784359\n",
            "frozenset({'GG', 'AG', 'CC', ' ', '12'}) - Support: 0.20253018976423232\n",
            "frozenset({'AG', 'CC', ' ', '12', 'TT'}) - Support: 0.11017826336975273\n",
            "frozenset({'GG', 'AG', ' ', 'CG', '12'}) - Support: 0.14985623921794133\n",
            "frozenset({'SL', 'GG', 'AG', ' ', '12'}) - Support: 0.11466359976998275\n",
            "frozenset({'SpLp', 'GG', 'AG', ' ', '12'}) - Support: 0.10891316848763657\n",
            "frozenset({'TC', 'GG', 'AG', ' ', '12'}) - Support: 0.12167912593444509\n",
            "frozenset({'GG', 'AG', ' ', '12', 'TT'}) - Support: 0.12443933294997125\n",
            "frozenset({'CC', ' ', 'CG', '12', 'AT'}) - Support: 0.11719378953421507\n",
            "frozenset({'GG', 'CC', ' ', '12', 'AT'}) - Support: 0.17239792984473837\n",
            "frozenset({'CC', ' ', '12', 'AT', 'TT'}) - Support: 0.10063254744105808\n",
            "frozenset({'GG', ' ', 'CG', '12', 'AT'}) - Support: 0.1344450833812536\n",
            "frozenset({'GG', ' ', '12', 'AT', 'TT'}) - Support: 0.11201840138010351\n",
            "frozenset({'GG', 'CC', ' ', 'CG', '12'}) - Support: 0.17297297297297298\n",
            "frozenset({'SL', 'GG', 'CC', ' ', '12'}) - Support: 0.1349051178838413\n",
            "frozenset({'SpLp', 'GG', 'CC', ' ', '12'}) - Support: 0.12443933294997125\n",
            "frozenset({'TC', 'GG', 'CC', ' ', '12'}) - Support: 0.1066129959746981\n",
            "frozenset({'GG', 'CC', ' ', '12', 'TT'}) - Support: 0.15077630822311675\n",
            "frozenset({'SpLp', 'SL', 'CC', ' ', '12'}) - Support: 0.10914318573893042\n",
            "frozenset({'GG', ' ', 'CG', '12', 'TT'}) - Support: 0.11109833237492812\n",
            "frozenset({'SpLp', 'GG', 'SL', ' ', '12'}) - Support: 0.12892466935020128\n",
            "frozenset({'14a 14a', 'AA', 'SpSp', 'SS', ' '}) - Support: 0.10730304772857964\n",
            "frozenset({'14a 16a', 'AA', 'GG', 'AG', ' '}) - Support: 0.10293271995399655\n",
            "frozenset({'14a 16a', 'AA', 'SL', 'AG', ' '}) - Support: 0.12604945370902818\n",
            "frozenset({'14a 16a', 'AA', 'SpLp', 'AG', ' '}) - Support: 0.12604945370902818\n",
            "frozenset({'14a 16a', 'AA', 'GG', 'CC', ' '}) - Support: 0.13018976423231743\n",
            "frozenset({'14a 16a', 'AA', 'SL', 'CC', ' '}) - Support: 0.1324899367452559\n",
            "frozenset({'14a 16a', 'AA', 'SpLp', 'CC', ' '}) - Support: 0.1324899367452559\n",
            "frozenset({'14a 16a', 'AA', 'SL', 'GG', ' '}) - Support: 0.19850488786658999\n",
            "frozenset({'14a 16a', 'AA', 'SpLp', 'GG', ' '}) - Support: 0.19850488786658999\n",
            "frozenset({'14a 16a', 'AA', 'SpLp', 'SL', ' '}) - Support: 0.2264519838987924\n",
            "frozenset({'14a 16a', 'SL', 'GG', 'AG', ' '}) - Support: 0.10293271995399655\n",
            "frozenset({'14a 16a', 'SpLp', 'GG', 'AG', ' '}) - Support: 0.10293271995399655\n",
            "frozenset({'14a 16a', 'SpLp', 'SL', 'AG', ' '}) - Support: 0.12604945370902818\n",
            "frozenset({'14a 16a', 'SL', 'GG', 'CC', ' '}) - Support: 0.13018976423231743\n",
            "frozenset({'14a 16a', 'SpLp', 'GG', 'CC', ' '}) - Support: 0.13018976423231743\n",
            "frozenset({'14a 16a', 'SpLp', 'SL', 'CC', ' '}) - Support: 0.1324899367452559\n",
            "frozenset({'14a 16a', 'SpLp', 'GG', 'SL', ' '}) - Support: 0.19850488786658999\n",
            "frozenset({'LL', 'AA', '16a 16a', 'GG', ' '}) - Support: 0.12696952271420356\n",
            "frozenset({'AA', '16a 16a', 'GG', 'LpLp', ' '}) - Support: 0.12708453133985048\n",
            "frozenset({'LL', 'AA', '16a 16a', 'LpLp', ' '}) - Support: 0.14537090281771134\n",
            "frozenset({'LL', '16a 16a', 'GG', 'LpLp', ' '}) - Support: 0.12696952271420356\n",
            "frozenset({'2', 'AA', 'GG', ' ', 'H'}) - Support: 0.14560092006900519\n",
            "frozenset({'AA', '22', 'GG', 'CC', ' '}) - Support: 0.11914893617021277\n",
            "frozenset({'AA', 'AC', 'GG', 'AG', ' '}) - Support: 0.13617021276595745\n",
            "frozenset({'AA', 'AC', 'GG', ' ', 'AT'}) - Support: 0.1124784358826912\n",
            "frozenset({'AA', 'AC', 'GG', 'CC', ' '}) - Support: 0.13513513513513514\n",
            "frozenset({'AA', 'AC', 'GG', ' ', 'CG'}) - Support: 0.1105232892466935\n",
            "frozenset({'AA', 'AG', 'CC', ' ', 'AT'}) - Support: 0.15192639447958597\n",
            "frozenset({'AA', 'AG', ' ', 'CG', 'AT'}) - Support: 0.11558366877515813\n",
            "frozenset({'AA', 'GG', 'AG', ' ', 'AT'}) - Support: 0.1711328349626222\n",
            "frozenset({'AA', 'AG', ' ', 'AT', 'TT'}) - Support: 0.10431282346175963\n",
            "frozenset({'AA', 'AG', 'CC', ' ', 'CG'}) - Support: 0.14801610120759057\n",
            "frozenset({'AA', 'GG', 'AG', 'CC', ' '}) - Support: 0.2434732604945371\n",
            "frozenset({'AA', 'SL', 'AG', 'CC', ' '}) - Support: 0.11972397929844739\n",
            "frozenset({'AA', 'SpLp', 'AG', 'CC', ' '}) - Support: 0.10994824611845888\n",
            "frozenset({'AA', 'AG', 'CC', ' ', 'TT'}) - Support: 0.1330649798734905\n",
            "frozenset({'AA', 'GG', 'AG', ' ', 'CG'}) - Support: 0.16825761932144911\n",
            "frozenset({'AA', 'SL', 'GG', 'AG', ' '}) - Support: 0.136860264519839\n",
            "frozenset({'AA', 'SpLp', 'GG', 'AG', ' '}) - Support: 0.1285796434732605\n",
            "frozenset({'AA', 'GG', 'AG', ' ', 'TA'}) - Support: 0.10258769407705579\n",
            "frozenset({'TC', 'AA', 'GG', 'AG', ' '}) - Support: 0.1330649798734905\n",
            "frozenset({'AA', 'GG', 'AG', ' ', 'TT'}) - Support: 0.1491661874640598\n",
            "frozenset({'AA', 'SpLp', 'SL', 'AG', ' '}) - Support: 0.12685451408855664\n",
            "frozenset({'AA', 'CC', ' ', 'CG', 'AT'}) - Support: 0.13364002300172512\n",
            "frozenset({'AA', 'GG', 'CC', ' ', 'AT'}) - Support: 0.20368027602070155\n",
            "frozenset({'AA', 'CC', ' ', 'AT', 'TT'}) - Support: 0.11891891891891893\n",
            "frozenset({'AA', 'GG', ' ', 'CG', 'AT'}) - Support: 0.15066129959746982\n",
            "frozenset({'AA', 'SL', 'GG', ' ', 'AT'}) - Support: 0.11466359976998275\n",
            "frozenset({'TC', 'AA', 'GG', ' ', 'AT'}) - Support: 0.10580793559516964\n",
            "frozenset({'AA', 'GG', ' ', 'AT', 'TT'}) - Support: 0.13628522139160437\n",
            "frozenset({'AA', 'GG', 'CC', ' ', 'CG'}) - Support: 0.20115008625646924\n",
            "frozenset({'AA', 'CC', ' ', 'CG', 'TT'}) - Support: 0.11236342725704428\n",
            "frozenset({'LL', 'AA', 'GG', 'CC', ' '}) - Support: 0.11466359976998275\n",
            "frozenset({'AA', 'SL', 'GG', 'CC', ' '}) - Support: 0.16561242093156986\n",
            "frozenset({'AA', 'SpLp', 'GG', 'CC', ' '}) - Support: 0.15031627372052905\n",
            "frozenset({'AA', 'GG', 'CC', ' ', 'TA'}) - Support: 0.10454284071305348\n",
            "frozenset({'TC', 'AA', 'GG', 'CC', ' '}) - Support: 0.12075905692926969\n",
            "frozenset({'AA', 'GG', 'CC', ' ', 'TT'}) - Support: 0.18642898217366302\n",
            "frozenset({'AA', 'SpLp', 'SL', 'CC', ' '}) - Support: 0.13317998849913742\n",
            "frozenset({'AA', 'SL', 'GG', ' ', 'CG'}) - Support: 0.10833812535940196\n",
            "frozenset({'AA', 'SpLp', 'GG', ' ', 'CG'}) - Support: 0.10235767682576193\n",
            "frozenset({'TC', 'AA', 'GG', ' ', 'CG'}) - Support: 0.10477285796434732\n",
            "frozenset({'AA', 'GG', ' ', 'CG', 'TT'}) - Support: 0.12731454859114433\n",
            "frozenset({'LL', 'AA', 'GG', 'LpLp', ' '}) - Support: 0.12696952271420356\n",
            "frozenset({'AA', 'SpLp', 'GG', 'SL', ' '}) - Support: 0.19930994824611845\n",
            "frozenset({'AA', 'SL', 'GG', ' ', 'TT'}) - Support: 0.10672800460034503\n",
            "frozenset({'AG', 'CC', ' ', 'CG', 'AT'}) - Support: 0.10063254744105808\n",
            "frozenset({'GG', 'AG', 'CC', ' ', 'AT'}) - Support: 0.15227142035652674\n",
            "frozenset({'GG', 'AG', ' ', 'CG', 'AT'}) - Support: 0.11293847038527889\n",
            "frozenset({'GG', 'AG', ' ', 'AT', 'TT'}) - Support: 0.10373778033352501\n",
            "frozenset({'GG', 'AG', 'CC', ' ', 'CG'}) - Support: 0.14537090281771134\n",
            "frozenset({'SL', 'GG', 'AG', 'CC', ' '}) - Support: 0.1183438757906843\n",
            "frozenset({'SpLp', 'GG', 'AG', 'CC', ' '}) - Support: 0.10983323749281196\n",
            "frozenset({'GG', 'AG', 'CC', ' ', 'TT'}) - Support: 0.13179988499137435\n",
            "frozenset({'SpLp', 'GG', 'SL', 'AG', ' '}) - Support: 0.10408280621046578\n",
            "frozenset({'GG', 'CC', ' ', 'CG', 'AT'}) - Support: 0.1315698677400805\n",
            "frozenset({'SL', 'GG', 'CC', ' ', 'AT'}) - Support: 0.10155261644623347\n",
            "frozenset({'GG', 'CC', ' ', 'AT', 'TT'}) - Support: 0.12248418631397355\n",
            "frozenset({'GG', 'CC', ' ', 'CG', 'TT'}) - Support: 0.1105232892466935\n",
            "frozenset({'SpLp', 'GG', 'SL', 'CC', ' '}) - Support: 0.1309948246118459\n",
            "frozenset({'AA', '   ', 'GG', 'AG', '12'}) - Support: 0.11328349626221966\n",
            "frozenset({'AA', '   ', 'GG', 'CC', '12'}) - Support: 0.13145485911443358\n",
            "frozenset({'14a 16a', 'AA', '   ', 'SL', 'GG'}) - Support: 0.11914893617021277\n",
            "frozenset({'14a 16a', 'AA', '   ', 'SpLp', 'GG'}) - Support: 0.11914893617021277\n",
            "frozenset({'14a 16a', 'AA', '   ', 'SpLp', 'SL'}) - Support: 0.14583093732029903\n",
            "frozenset({'14a 16a', '   ', 'SpLp', 'GG', 'SL'}) - Support: 0.11914893617021277\n",
            "frozenset({'AA', '   ', 'GG', 'AG', 'CC'}) - Support: 0.12305922944220817\n",
            "frozenset({'AA', '   ', 'SpLp', 'GG', 'SL'}) - Support: 0.11949396204715354\n",
            "frozenset({'AA', 'GG', 'AG', '11', '12'}) - Support: 0.10270270270270271\n",
            "frozenset({'AA', 'GG', 'CC', '11', '12'}) - Support: 0.1311098332374928\n",
            "frozenset({'AA', 'GG', 'AG', '11', 'CC'}) - Support: 0.12685451408855664\n",
            "frozenset({'AA', 'GG', 'CC', '11', 'AT'}) - Support: 0.10569292696952272\n",
            "frozenset({'AA', 'GG', 'CC', '11', 'CG'}) - Support: 0.11362852213916044\n",
            "frozenset({'14a 16a', 'AA', 'GG', 'CC', '12'}) - Support: 0.1066129959746981\n",
            "frozenset({'14a 16a', 'AA', 'SL', 'CC', '12'}) - Support: 0.10833812535940196\n",
            "frozenset({'14a 16a', 'AA', 'SpLp', 'CC', '12'}) - Support: 0.10833812535940196\n",
            "frozenset({'14a 16a', 'AA', 'SL', 'GG', '12'}) - Support: 0.12800460034502587\n",
            "frozenset({'14a 16a', 'AA', 'SpLp', 'GG', '12'}) - Support: 0.12800460034502587\n",
            "frozenset({'14a 16a', 'AA', 'SpLp', 'SL', '12'}) - Support: 0.13030477285796435\n",
            "frozenset({'14a 16a', 'SL', 'GG', 'CC', '12'}) - Support: 0.1066129959746981\n",
            "frozenset({'14a 16a', 'SpLp', 'GG', 'CC', '12'}) - Support: 0.1066129959746981\n",
            "frozenset({'14a 16a', 'SpLp', 'SL', 'CC', '12'}) - Support: 0.10833812535940196\n",
            "frozenset({'14a 16a', 'SpLp', 'GG', 'SL', '12'}) - Support: 0.12800460034502587\n",
            "frozenset({'AA', 'AC', 'GG', 'AG', '12'}) - Support: 0.12167912593444509\n",
            "frozenset({'AA', 'AC', 'GG', '12', 'AT'}) - Support: 0.10166762507188039\n",
            "frozenset({'AA', 'AC', 'GG', 'CC', '12'}) - Support: 0.1168487636572743\n",
            "frozenset({'AA', 'AC', 'GG', 'CG', '12'}) - Support: 0.10212765957446808\n",
            "frozenset({'AA', 'AG', 'CC', '12', 'AT'}) - Support: 0.1271995399654974\n",
            "frozenset({'AA', 'AG', 'CG', '12', 'AT'}) - Support: 0.10212765957446808\n",
            "frozenset({'AA', 'GG', 'AG', '12', 'AT'}) - Support: 0.14341575618171362\n",
            "frozenset({'AA', 'AG', 'CC', 'CG', '12'}) - Support: 0.1276595744680851\n",
            "frozenset({'AA', 'GG', 'AG', 'CC', '12'}) - Support: 0.19792984473835537\n",
            "frozenset({'AA', 'AG', 'CC', '12', 'TT'}) - Support: 0.10833812535940196\n",
            "frozenset({'AA', 'GG', 'AG', 'CG', '12'}) - Support: 0.14790109258194364\n",
            "frozenset({'AA', 'SL', 'GG', 'AG', '12'}) - Support: 0.11201840138010351\n",
            "frozenset({'AA', 'SpLp', 'GG', 'AG', '12'}) - Support: 0.10753306497987349\n",
            "frozenset({'TC', 'AA', 'GG', 'AG', '12'}) - Support: 0.11972397929844739\n",
            "frozenset({'AA', 'GG', 'AG', '12', 'TT'}) - Support: 0.1227142035652674\n",
            "frozenset({'AA', 'CC', 'CG', '12', 'AT'}) - Support: 0.11523864289821736\n",
            "frozenset({'AA', 'GG', 'CC', '12', 'AT'}) - Support: 0.16860264519838988\n",
            "frozenset({'AA', 'GG', 'CG', '12', 'AT'}) - Support: 0.1324899367452559\n",
            "frozenset({'AA', 'GG', '12', 'AT', 'TT'}) - Support: 0.1109833237492812\n",
            "frozenset({'AA', 'GG', 'CC', 'CG', '12'}) - Support: 0.17101782633697526\n",
            "frozenset({'AA', 'SL', 'GG', 'CC', '12'}) - Support: 0.1326049453709028\n",
            "frozenset({'AA', 'SpLp', 'GG', 'CC', '12'}) - Support: 0.12317423806785509\n",
            "frozenset({'TC', 'AA', 'GG', 'CC', '12'}) - Support: 0.10488786658999424\n",
            "frozenset({'AA', 'GG', 'CC', '12', 'TT'}) - Support: 0.14905117883841287\n",
            "frozenset({'AA', 'SpLp', 'SL', 'CC', '12'}) - Support: 0.1090281771132835\n",
            "frozenset({'AA', 'GG', 'CG', '12', 'TT'}) - Support: 0.1105232892466935\n",
            "frozenset({'AA', 'SpLp', 'GG', 'SL', '12'}) - Support: 0.12880966072455435\n",
            "frozenset({'GG', 'AG', 'CC', '12', 'AT'}) - Support: 0.1266244968372628\n",
            "frozenset({'GG', 'AG', 'CC', 'CG', '12'}) - Support: 0.12501437607820587\n",
            "frozenset({'GG', 'AG', 'CC', '12', 'TT'}) - Support: 0.1070730304772858\n",
            "frozenset({'GG', 'CC', 'CG', '12', 'AT'}) - Support: 0.11328349626221966\n",
            "frozenset({'SpLp', 'GG', 'SL', 'CC', '12'}) - Support: 0.10741805635422656\n",
            "frozenset({'14a 16a', 'AA', 'SL', 'GG', 'AG'}) - Support: 0.10293271995399655\n",
            "frozenset({'14a 16a', 'AA', 'SpLp', 'GG', 'AG'}) - Support: 0.10293271995399655\n",
            "frozenset({'14a 16a', 'AA', 'SpLp', 'SL', 'AG'}) - Support: 0.12604945370902818\n",
            "frozenset({'14a 16a', 'AA', 'SL', 'GG', 'CC'}) - Support: 0.13018976423231743\n",
            "frozenset({'14a 16a', 'AA', 'SpLp', 'GG', 'CC'}) - Support: 0.13018976423231743\n",
            "frozenset({'14a 16a', 'AA', 'SpLp', 'SL', 'CC'}) - Support: 0.1324899367452559\n",
            "frozenset({'14a 16a', 'AA', 'SpLp', 'GG', 'SL'}) - Support: 0.19850488786658999\n",
            "frozenset({'14a 16a', 'SpLp', 'GG', 'SL', 'AG'}) - Support: 0.10293271995399655\n",
            "frozenset({'14a 16a', 'SpLp', 'GG', 'SL', 'CC'}) - Support: 0.13018976423231743\n",
            "frozenset({'LL', 'AA', '16a 16a', 'GG', 'LpLp'}) - Support: 0.12696952271420356\n",
            "frozenset({'AA', 'GG', 'AG', 'CC', 'AT'}) - Support: 0.1466359976998275\n",
            "frozenset({'AA', 'GG', 'AG', 'CG', 'AT'}) - Support: 0.11063829787234042\n",
            "frozenset({'AA', 'GG', 'AG', 'CC', 'CG'}) - Support: 0.14307073030477285\n",
            "frozenset({'AA', 'SL', 'GG', 'AG', 'CC'}) - Support: 0.11523864289821736\n",
            "frozenset({'AA', 'SpLp', 'GG', 'AG', 'CC'}) - Support: 0.10753306497987349\n",
            "frozenset({'AA', 'GG', 'AG', 'CC', 'TT'}) - Support: 0.1276595744680851\n",
            "frozenset({'AA', 'SpLp', 'GG', 'SL', 'AG'}) - Support: 0.10373778033352501\n",
            "frozenset({'AA', 'GG', 'CC', 'CG', 'AT'}) - Support: 0.12938470385278897\n",
            "frozenset({'AA', 'GG', 'CC', 'AT', 'TT'}) - Support: 0.11546866014951121\n",
            "frozenset({'AA', 'GG', 'CC', 'CG', 'TT'}) - Support: 0.10948821161587119\n",
            "frozenset({'AA', 'SpLp', 'GG', 'SL', 'CC'}) - Support: 0.13087981598619897\n",
            "\n"
          ]
        }
      ],
      "source": [
        "\n",
        "############################################### WORKING IN GETTING THE ITEMSETS HOWEVER I WAS UNABLE TO GET COLUMNS#################################################################\n",
        "dfr = dfr.astype(str)\n",
        "\n",
        "# Convert the data to a list of lists\n",
        "data_list = dfr.values.tolist()\n",
        "\n",
        "# Use TransactionEncoder to convert the list of lists into a one-hot encoded format\n",
        "te = TransactionEncoder()\n",
        "te_ary = te.fit(data_list).transform(data_list)\n",
        "\n",
        "# Convert the one-hot encoded array back to a DataFrame\n",
        "dfr_encoded = pd.DataFrame(te_ary, columns=te.columns_)\n",
        "\n",
        "# Find frequent itemsets with a minimum support of your choice (e.g., 0.1)\n",
        "frequent_itemsets = apriori(dfr_encoded, min_support=0.1, use_colnames=True)\n",
        "\n",
        "# Filter for itemsets of length 5\n",
        "frequent_itemsets_5 = frequent_itemsets[frequent_itemsets['itemsets'].apply(lambda x: len(x) == 5)]\n",
        "\n",
        "# Display or save the results to a text file\n",
        "result_text = \"Frequent Itemsets of Length 5:\\n\"\n",
        "for index, row in frequent_itemsets_5.iterrows():\n",
        "    result_text += f\"{row['itemsets']} - Support: {row['support']}\\n\"\n",
        "\n",
        "# Print the results\n",
        "print(result_text)\n",
        "\n",
        "# Save the results to a text file\n",
        "with open(\"frequent_itemsets_length_5.txt\", \"w\") as text_file:\n",
        "    text_file.write(result_text)"
      ]
    }
  ],
  "metadata": {
    "colab": {
      "provenance": []
    },
    "kernelspec": {
      "display_name": "Python 3",
      "name": "python3"
    },
    "language_info": {
      "name": "python"
    }
  },
  "nbformat": 4,
  "nbformat_minor": 0
}
